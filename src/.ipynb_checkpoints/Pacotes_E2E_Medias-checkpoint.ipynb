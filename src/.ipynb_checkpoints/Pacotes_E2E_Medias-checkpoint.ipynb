{
 "cells": [
  {
   "cell_type": "code",
   "execution_count": 72,
   "id": "3d165925",
   "metadata": {},
   "outputs": [],
   "source": [
    "import pandas as pd\n",
    "import numpy as np\n",
    "import matplotlib.pyplot as plt\n",
    "from os import listdir\n",
    "from os.path import isfile, join\n",
    "%matplotlib inline\n",
    "\n",
    "pd.options.mode.chained_assignment = None  # default='warn'"
   ]
  },
  {
   "cell_type": "code",
   "execution_count": null,
   "id": "fb8f2aa6",
   "metadata": {
    "scrolled": true
   },
   "outputs": [],
   "source": [
    "# Pacotes enviados/recebidos, PDR e E2E Delay\n",
    "# Entra na pasta do cenário, depois digita: opp_scavetool x *.sca -o nome_do_csv.csv\n",
    "\n",
    "CSV_DIR = \"../csv/\"\n",
    "\n",
    "DIC_SPEED = {\n",
    "    \"Static\": 0,\n",
    "    \"IPv4SlowMobility\": 1,\n",
    "    \"IPv4ModerateFastMobility\": 2,\n",
    "    \"IPv4FastMobility\": 3,\n",
    "}\n",
    "\n",
    "csv_files = [f for f in listdir(CSV_DIR) if (isfile(join(CSV_DIR, f)) and '~lock' not in f)]\n",
    "\n",
    "data_frames = []\n",
    "for f in csv_files:\n",
    "    df = pd.read_csv(join(CSV_DIR, f), low_memory = False)\n",
    "    scenario = f.replace(\".csv\", \"\")\n",
    "    info = scenario.split(\"_\")\n",
    "    df[\"scenario\"] = scenario\n",
    "    df[\"speed\"] = DIC_SPEED[info[0]]\n",
    "    df[\"hosts\"] = info[1]\n",
    "    df[\"timeout\"] = info[2]\n",
    "    data_frames.append(df)\n",
    "\n",
    "df_cenarios = pd.DataFrame(columns = [\"scenario\", \"speed\", \"hosts\", \"timeout\", \"run\", \"round_idx\", \"pck_sent\", \"pck_rec\", \"pdr\", \"e2e_mean\", \"e2e_stddev\"])\n",
    "for df in data_frames:\n",
    "    # Filtra as linhas pra pegar só os pacotes enviados/recebidos e as info de E2E \n",
    "    sent = df.query('name==\"packets sent\" & module==\"AODVNetwork_cbr.aodvCli.app[0]\" & type==\"scalar\"')\n",
    "    rec = df.query('name==\"packetReceived:count\" & module==\"AODVNetwork_cbr.aodvSrv.app[0]\" & type==\"scalar\"')\n",
    "    e2e = df.query('name==\"endToEndDelay:histogram\" & module==\"AODVNetwork_cbr.aodvSrv.app[0]\" & type==\"histogram\"')\n",
    "        \n",
    "    # Cria um data frame contendo scenario|speed|hosts|timeout|run|round.idx|pck.sent|pck.rec|pdr|e2e.mean|e2e.stddev\n",
    "    data = pd.merge(sent, rec, on = \"run\")\n",
    "    data = pd.merge(e2e, data, on = \"run\")\n",
    "    data = pd.DataFrame(\n",
    "        {\"scenario\": data[\"scenario\"],\n",
    "         \"speed\": pd.to_numeric(data[\"speed\"]),\n",
    "         \"hosts\": pd.to_numeric(data[\"hosts\"]),\n",
    "         \"timeout\": pd.to_numeric(data[\"timeout\"]),\n",
    "         \"run\": data[\"run\"],\n",
    "         \"round_idx\": np.arange(len(data)),\n",
    "         \"pck_sent\": pd.to_numeric(data[\"value_x\"]),\n",
    "         \"pck_rec\": pd.to_numeric(data[\"value_y\"]),\n",
    "         \"pdr\": pd.to_numeric(data[\"value_y\"]) / pd.to_numeric(data[\"value_x\"]),\n",
    "         \"e2e_mean\": data[\"mean\"],\n",
    "         \"e2e_stddev\": data[\"stddev\"],\n",
    "        }\n",
    "    )\n",
    "    df_cenarios = df_cenarios.append(data, ignore_index = True)"
   ]
  },
  {
   "cell_type": "code",
   "execution_count": 122,
   "id": "d75f172f",
   "metadata": {
    "scrolled": false
   },
   "outputs": [
    {
     "data": {
      "image/png": "[encoded data removed]",
      "text/plain": [
       "<Figure size 1080x360 with 1 Axes>"
      ]
     },
     "metadata": {
      "needs_background": "light"
     },
     "output_type": "display_data"
    }
   ],
   "source": [
    "# remove as rodadas inválidas onde não houve recebimento de pacotes\n",
    "df_cenarios = df_cenarios.query('pck_rec>0')\n",
    "\n",
    "# plotar a quantidade de instâncias de cada cenário\n",
    "grouped = df_cenarios.groupby(by = ['speed', 'hosts', 'timeout'])\n",
    "qtd = grouped['pck_rec'].count()\n",
    "plt.figure(figsize = (15, 5))\n",
    "plt.xticks(rotation='vertical')\n",
    "qtd.plot.bar();"
   ]
  },
  {
   "cell_type": "code",
   "execution_count": 108,
   "id": "amber-seminar",
   "metadata": {
    "scrolled": true
   },
   "outputs": [
    {
     "data": {
      "image/png": "[encoded data removed]",
      "text/plain": [
       "<Figure size 720x360 with 1 Axes>"
      ]
     },
     "metadata": {
      "needs_background": "light"
     },
     "output_type": "display_data"
    }
   ],
   "source": [
    "grouped = df_cenarios.groupby(by = ['speed'])\n",
    "df2 = pd.DataFrame({col:vals['pdr'] for col, vals in grouped})\n",
    "meds = df2.median()\n",
    "meds.sort_values(ascending = False, inplace= True)\n",
    "df2 = df2[meds.index]\n",
    "plt.figure(figsize = (10, 5))\n",
    "df2.boxplot();"
   ]
  },
  {
   "cell_type": "code",
   "execution_count": 106,
   "id": "7bbc5310",
   "metadata": {},
   "outputs": [
    {
     "data": {
      "text/html": [
       "<div>\n",
       "<style scoped>\n",
       "    .dataframe tbody tr th:only-of-type {\n",
       "        vertical-align: middle;\n",
       "    }\n",
       "\n",
       "    .dataframe tbody tr th {\n",
       "        vertical-align: top;\n",
       "    }\n",
       "\n",
       "    .dataframe thead th {\n",
       "        text-align: right;\n",
       "    }\n",
       "</style>\n",
       "<table border=\"1\" class=\"dataframe\">\n",
       "  <thead>\n",
       "    <tr style=\"text-align: right;\">\n",
       "      <th></th>\n",
       "      <th>scenario</th>\n",
       "      <th>speed</th>\n",
       "      <th>hosts</th>\n",
       "      <th>timeout</th>\n",
       "      <th>run</th>\n",
       "      <th>round_idx</th>\n",
       "      <th>pck_sent</th>\n",
       "      <th>pck_rec</th>\n",
       "      <th>pdr</th>\n",
       "      <th>e2e_mean</th>\n",
       "      <th>e2e_stddev</th>\n",
       "    </tr>\n",
       "  </thead>\n",
       "  <tbody>\n",
       "    <tr>\n",
       "      <th>425</th>\n",
       "      <td>Static_20_1</td>\n",
       "      <td>0</td>\n",
       "      <td>20</td>\n",
       "      <td>1</td>\n",
       "      <td>Static-14-20210729-09:16:42-10348</td>\n",
       "      <td>5</td>\n",
       "      <td>198.0</td>\n",
       "      <td>0.0</td>\n",
       "      <td>0.0</td>\n",
       "      <td>NaN</td>\n",
       "      <td>NaN</td>\n",
       "    </tr>\n",
       "    <tr>\n",
       "      <th>426</th>\n",
       "      <td>Static_20_1</td>\n",
       "      <td>0</td>\n",
       "      <td>20</td>\n",
       "      <td>1</td>\n",
       "      <td>Static-15-20210729-09:16:43-10360</td>\n",
       "      <td>6</td>\n",
       "      <td>196.0</td>\n",
       "      <td>0.0</td>\n",
       "      <td>0.0</td>\n",
       "      <td>NaN</td>\n",
       "      <td>NaN</td>\n",
       "    </tr>\n",
       "    <tr>\n",
       "      <th>430</th>\n",
       "      <td>Static_20_1</td>\n",
       "      <td>0</td>\n",
       "      <td>20</td>\n",
       "      <td>1</td>\n",
       "      <td>Static-19-20210729-09:16:51-10409</td>\n",
       "      <td>10</td>\n",
       "      <td>199.0</td>\n",
       "      <td>0.0</td>\n",
       "      <td>0.0</td>\n",
       "      <td>NaN</td>\n",
       "      <td>NaN</td>\n",
       "    </tr>\n",
       "    <tr>\n",
       "      <th>432</th>\n",
       "      <td>Static_20_1</td>\n",
       "      <td>0</td>\n",
       "      <td>20</td>\n",
       "      <td>1</td>\n",
       "      <td>Static-20-20210729-09:16:53-10421</td>\n",
       "      <td>12</td>\n",
       "      <td>198.0</td>\n",
       "      <td>0.0</td>\n",
       "      <td>0.0</td>\n",
       "      <td>NaN</td>\n",
       "      <td>NaN</td>\n",
       "    </tr>\n",
       "    <tr>\n",
       "      <th>444</th>\n",
       "      <td>Static_20_1</td>\n",
       "      <td>0</td>\n",
       "      <td>20</td>\n",
       "      <td>1</td>\n",
       "      <td>Static-4-20210729-09:16:19-10228</td>\n",
       "      <td>24</td>\n",
       "      <td>199.0</td>\n",
       "      <td>0.0</td>\n",
       "      <td>0.0</td>\n",
       "      <td>NaN</td>\n",
       "      <td>NaN</td>\n",
       "    </tr>\n",
       "    <tr>\n",
       "      <th>...</th>\n",
       "      <td>...</td>\n",
       "      <td>...</td>\n",
       "      <td>...</td>\n",
       "      <td>...</td>\n",
       "      <td>...</td>\n",
       "      <td>...</td>\n",
       "      <td>...</td>\n",
       "      <td>...</td>\n",
       "      <td>...</td>\n",
       "      <td>...</td>\n",
       "      <td>...</td>\n",
       "    </tr>\n",
       "    <tr>\n",
       "      <th>1235</th>\n",
       "      <td>Static_20_10</td>\n",
       "      <td>0</td>\n",
       "      <td>20</td>\n",
       "      <td>10</td>\n",
       "      <td>Static-14-20210729-09:23:28-13518</td>\n",
       "      <td>5</td>\n",
       "      <td>198.0</td>\n",
       "      <td>0.0</td>\n",
       "      <td>0.0</td>\n",
       "      <td>NaN</td>\n",
       "      <td>NaN</td>\n",
       "    </tr>\n",
       "    <tr>\n",
       "      <th>1236</th>\n",
       "      <td>Static_20_10</td>\n",
       "      <td>0</td>\n",
       "      <td>20</td>\n",
       "      <td>10</td>\n",
       "      <td>Static-15-20210729-09:23:28-13519</td>\n",
       "      <td>6</td>\n",
       "      <td>196.0</td>\n",
       "      <td>0.0</td>\n",
       "      <td>0.0</td>\n",
       "      <td>NaN</td>\n",
       "      <td>NaN</td>\n",
       "    </tr>\n",
       "    <tr>\n",
       "      <th>1240</th>\n",
       "      <td>Static_20_10</td>\n",
       "      <td>0</td>\n",
       "      <td>20</td>\n",
       "      <td>10</td>\n",
       "      <td>Static-19-20210729-09:23:31-13565</td>\n",
       "      <td>10</td>\n",
       "      <td>199.0</td>\n",
       "      <td>0.0</td>\n",
       "      <td>0.0</td>\n",
       "      <td>NaN</td>\n",
       "      <td>NaN</td>\n",
       "    </tr>\n",
       "    <tr>\n",
       "      <th>1242</th>\n",
       "      <td>Static_20_10</td>\n",
       "      <td>0</td>\n",
       "      <td>20</td>\n",
       "      <td>10</td>\n",
       "      <td>Static-20-20210729-09:23:31-13570</td>\n",
       "      <td>12</td>\n",
       "      <td>198.0</td>\n",
       "      <td>0.0</td>\n",
       "      <td>0.0</td>\n",
       "      <td>NaN</td>\n",
       "      <td>NaN</td>\n",
       "    </tr>\n",
       "    <tr>\n",
       "      <th>1254</th>\n",
       "      <td>Static_20_10</td>\n",
       "      <td>0</td>\n",
       "      <td>20</td>\n",
       "      <td>10</td>\n",
       "      <td>Static-4-20210729-09:23:25-13350</td>\n",
       "      <td>24</td>\n",
       "      <td>199.0</td>\n",
       "      <td>0.0</td>\n",
       "      <td>0.0</td>\n",
       "      <td>NaN</td>\n",
       "      <td>NaN</td>\n",
       "    </tr>\n",
       "  </tbody>\n",
       "</table>\n",
       "<p>96 rows × 11 columns</p>\n",
       "</div>"
      ],
      "text/plain": [
       "          scenario speed hosts timeout                                run  \\\n",
       "425    Static_20_1     0    20       1  Static-14-20210729-09:16:42-10348   \n",
       "426    Static_20_1     0    20       1  Static-15-20210729-09:16:43-10360   \n",
       "430    Static_20_1     0    20       1  Static-19-20210729-09:16:51-10409   \n",
       "432    Static_20_1     0    20       1  Static-20-20210729-09:16:53-10421   \n",
       "444    Static_20_1     0    20       1   Static-4-20210729-09:16:19-10228   \n",
       "...            ...   ...   ...     ...                                ...   \n",
       "1235  Static_20_10     0    20      10  Static-14-20210729-09:23:28-13518   \n",
       "1236  Static_20_10     0    20      10  Static-15-20210729-09:23:28-13519   \n",
       "1240  Static_20_10     0    20      10  Static-19-20210729-09:23:31-13565   \n",
       "1242  Static_20_10     0    20      10  Static-20-20210729-09:23:31-13570   \n",
       "1254  Static_20_10     0    20      10   Static-4-20210729-09:23:25-13350   \n",
       "\n",
       "     round_idx  pck_sent  pck_rec  pdr  e2e_mean  e2e_stddev  \n",
       "425          5     198.0      0.0  0.0       NaN         NaN  \n",
       "426          6     196.0      0.0  0.0       NaN         NaN  \n",
       "430         10     199.0      0.0  0.0       NaN         NaN  \n",
       "432         12     198.0      0.0  0.0       NaN         NaN  \n",
       "444         24     199.0      0.0  0.0       NaN         NaN  \n",
       "...        ...       ...      ...  ...       ...         ...  \n",
       "1235         5     198.0      0.0  0.0       NaN         NaN  \n",
       "1236         6     196.0      0.0  0.0       NaN         NaN  \n",
       "1240        10     199.0      0.0  0.0       NaN         NaN  \n",
       "1242        12     198.0      0.0  0.0       NaN         NaN  \n",
       "1254        24     199.0      0.0  0.0       NaN         NaN  \n",
       "\n",
       "[96 rows x 11 columns]"
      ]
     },
     "execution_count": 106,
     "metadata": {},
     "output_type": "execute_result"
    }
   ],
   "source": [
    "df_cenarios.query('pck_rec==0')"
   ]
  },
  {
   "cell_type": "code",
   "execution_count": 98,
   "id": "b5670b4e",
   "metadata": {},
   "outputs": [],
   "source": [
    "# Vou assinalar cada parte que precisa mudar algo a cada rodada\n",
    "# Alterar o nome do .csv a cada novo cenário\n",
    "\n",
    "df = pd.read_csv('../csv/Static_10_1.csv', low_memory = False)"
   ]
  },
  {
   "cell_type": "code",
   "execution_count": 99,
   "id": "80535548",
   "metadata": {
    "scrolled": true
   },
   "outputs": [],
   "source": [
    "# Filtrar só as colunas do nosso interesse.\n",
    "tmp = df[['run', 'name', 'module', 'value']]\n",
    "tmp_end = df[['run', 'type', 'module', 'name', 'mean', 'stddev']]"
   ]
  },
  {
   "cell_type": "code",
   "execution_count": 100,
   "id": "3530b627",
   "metadata": {
    "scrolled": false
   },
   "outputs": [],
   "source": [
    "# Filtra as linhas pra pegar só os pacotes enviados/recebidos e as info de E2E \n",
    "rec = tmp.query('name==\"packetReceived:count\" & module==\"AODVNetwork_cbr.aodvSrv.app[0]\" ')\n",
    "sent = tmp.query('name==\"packets sent\" & module==\"AODVNetwork_cbr.aodvCli.app[0]\" ')\n",
    "end = tmp_end.query('name==\"endToEndDelay:histogram\" & module==\"AODVNetwork_cbr.aodvSrv.app[0]\" & type==\"histogram\"')"
   ]
  },
  {
   "cell_type": "code",
   "execution_count": 102,
   "id": "17399b43",
   "metadata": {},
   "outputs": [],
   "source": [
    "# Exclui os valores NAN dos df\n",
    "rec_drop = rec.dropna()\n",
    "sent_drop = sent.dropna()\n",
    "end_drop = end.dropna()"
   ]
  },
  {
   "cell_type": "code",
   "execution_count": 103,
   "id": "5bd508f9",
   "metadata": {},
   "outputs": [],
   "source": [
    "# Reseta o index de cada df\n",
    "rec_idx = rec_drop.reset_index(drop=True)\n",
    "sent_idx = sent_drop.reset_index(drop=True)\n",
    "end_idx = end_drop.reset_index(drop=True)"
   ]
  },
  {
   "cell_type": "code",
   "execution_count": 104,
   "id": "b8c7358f",
   "metadata": {},
   "outputs": [
    {
     "data": {
      "text/plain": [
       "1.2382240778381617"
      ]
     },
     "execution_count": 104,
     "metadata": {},
     "output_type": "execute_result"
    }
   ],
   "source": [
    "# Cria novos df só com os valores que a gnt precisa calcular\n",
    "rec_value = rec_idx['value']\n",
    "sent_value = sent_idx['value']\n",
    "end_media = end_idx['mean']\n",
    "end_desvio = end_idx['stddev']\n",
    "\n",
    "end_media.mean()\n",
    "#end_desvio.mean()"
   ]
  },
  {
   "cell_type": "code",
   "execution_count": 105,
   "id": "f79a8489",
   "metadata": {},
   "outputs": [],
   "source": [
    "# Transforma os valores de pacotes enviados e recebidos em int\n",
    "rec_int = rec_value.astype(int)\n",
    "sent_int = sent_value.astype(int)"
   ]
  },
  {
   "cell_type": "code",
   "execution_count": 106,
   "id": "2496c9f9",
   "metadata": {},
   "outputs": [],
   "source": [
    "# Aqui daria pra melhorar pra não ter que ficar trocando a cada rodada o \"Fast_10_1\" e o nome do df gerado \"fast_10_1\"\n",
    "# Não consegui achar uma solução pra isso, mas considerando que os nomes são praticamente iguais, não é tão trabalhoso mudar,\n",
    "# só temos que cuidar pra não se confundir a cada rodada.\n",
    "\n",
    "# Aí teria que ir guardando esses df \"fast_10_1\", \"fast_10_3\", \"fast_10_5\"..... e depois usar o \"pd.concat\" que eu coloquei\n",
    "# lá embaixo pra juntar todos eles de uma vez só.\n",
    "\n",
    "# Calcula o PDR pela fórmula (pacotes recebidos / enviados * 100)\n",
    "# Cria um novo df com o nome da config, média dos pacotes enviados, média dos pcts recebidos, PDR, média do E2E e desvio do E2E\n",
    "\n",
    "enviados = sent_int.mean().astype(int).round()\n",
    "recebidos = rec_int.mean().astype(int).round()\n",
    "pdr = (recebidos/enviados)*100\n",
    "\n",
    "data = [(\"Static_10_1\", enviados.astype(int).round(), recebidos.astype(int).round(), pdr.round(2).astype(str) + '%', end_media.mean().round(4), end_desvio.mean().round(4) )]\n",
    "\n",
    "static_10_1 = pd.DataFrame(data, columns = ['Config', 'Sent Pkgs.', 'Received Pkgs.', 'PDR', 'E2E mean', 'E2E stddev '])"
   ]
  },
  {
   "cell_type": "code",
   "execution_count": null,
   "id": "81272b8a",
   "metadata": {},
   "outputs": [],
   "source": [
    "# Resumindo oq tem que trocar são 3 nomes:\n",
    "# 1 - o nome do csv no primeiro comando\n",
    "# 2 - o nome da configuração no quadro acima\n",
    "# 3 - o nome do DF gerado por último, no quadro acima"
   ]
  },
  {
   "cell_type": "code",
   "execution_count": 107,
   "id": "38e48cd2",
   "metadata": {
    "scrolled": true
   },
   "outputs": [
    {
     "data": {
      "text/html": [
       "<div>\n",
       "<style scoped>\n",
       "    .dataframe tbody tr th:only-of-type {\n",
       "        vertical-align: middle;\n",
       "    }\n",
       "\n",
       "    .dataframe tbody tr th {\n",
       "        vertical-align: top;\n",
       "    }\n",
       "\n",
       "    .dataframe thead th {\n",
       "        text-align: right;\n",
       "    }\n",
       "</style>\n",
       "<table border=\"1\" class=\"dataframe\">\n",
       "  <thead>\n",
       "    <tr style=\"text-align: right;\">\n",
       "      <th></th>\n",
       "      <th>Config</th>\n",
       "      <th>Sent Pkgs.</th>\n",
       "      <th>Received Pkgs.</th>\n",
       "      <th>PDR</th>\n",
       "      <th>E2E mean</th>\n",
       "      <th>E2E stddev</th>\n",
       "    </tr>\n",
       "  </thead>\n",
       "  <tbody>\n",
       "    <tr>\n",
       "      <th>0</th>\n",
       "      <td>Static_10_1</td>\n",
       "      <td>197</td>\n",
       "      <td>47</td>\n",
       "      <td>23.86%</td>\n",
       "      <td>1.2382</td>\n",
       "      <td>1.5734</td>\n",
       "    </tr>\n",
       "  </tbody>\n",
       "</table>\n",
       "</div>"
      ],
      "text/plain": [
       "        Config  Sent Pkgs.  Received Pkgs.     PDR  E2E mean  E2E stddev \n",
       "0  Static_10_1         197              47  23.86%    1.2382       1.5734"
      ]
     },
     "execution_count": 107,
     "metadata": {},
     "output_type": "execute_result"
    }
   ],
   "source": [
    "static_10_1"
   ]
  },
  {
   "cell_type": "code",
   "execution_count": 392,
   "id": "b7161a45",
   "metadata": {},
   "outputs": [
    {
     "data": {
      "text/html": [
       "<div>\n",
       "<style scoped>\n",
       "    .dataframe tbody tr th:only-of-type {\n",
       "        vertical-align: middle;\n",
       "    }\n",
       "\n",
       "    .dataframe tbody tr th {\n",
       "        vertical-align: top;\n",
       "    }\n",
       "\n",
       "    .dataframe thead th {\n",
       "        text-align: right;\n",
       "    }\n",
       "</style>\n",
       "<table border=\"1\" class=\"dataframe\">\n",
       "  <thead>\n",
       "    <tr style=\"text-align: right;\">\n",
       "      <th></th>\n",
       "      <th>Config</th>\n",
       "      <th>Sent Pkgs.</th>\n",
       "      <th>Received Pkgs.</th>\n",
       "      <th>PDR</th>\n",
       "      <th>E2E mean</th>\n",
       "      <th>E2E stddev</th>\n",
       "    </tr>\n",
       "  </thead>\n",
       "  <tbody>\n",
       "    <tr>\n",
       "      <th>0</th>\n",
       "      <td>Fast_10_1</td>\n",
       "      <td>197</td>\n",
       "      <td>149</td>\n",
       "      <td>75.63%</td>\n",
       "      <td>0.4563</td>\n",
       "      <td>1.1169</td>\n",
       "    </tr>\n",
       "    <tr>\n",
       "      <th>0</th>\n",
       "      <td>Fast_10_3</td>\n",
       "      <td>197</td>\n",
       "      <td>170</td>\n",
       "      <td>86.29%</td>\n",
       "      <td>0.0365</td>\n",
       "      <td>0.1781</td>\n",
       "    </tr>\n",
       "    <tr>\n",
       "      <th>0</th>\n",
       "      <td>Fast_10_5</td>\n",
       "      <td>197</td>\n",
       "      <td>170</td>\n",
       "      <td>86.29%</td>\n",
       "      <td>0.0365</td>\n",
       "      <td>0.1781</td>\n",
       "    </tr>\n",
       "    <tr>\n",
       "      <th>0</th>\n",
       "      <td>Fast_10_10</td>\n",
       "      <td>197</td>\n",
       "      <td>169</td>\n",
       "      <td>85.79%</td>\n",
       "      <td>0.0364</td>\n",
       "      <td>0.1772</td>\n",
       "    </tr>\n",
       "  </tbody>\n",
       "</table>\n",
       "</div>"
      ],
      "text/plain": [
       "       Config  Sent Pkgs.  Received Pkgs.     PDR  E2E mean  E2E stddev \n",
       "0   Fast_10_1         197             149  75.63%    0.4563       1.1169\n",
       "0   Fast_10_3         197             170  86.29%    0.0365       0.1781\n",
       "0   Fast_10_5         197             170  86.29%    0.0365       0.1781\n",
       "0  Fast_10_10         197             169  85.79%    0.0364       0.1772"
      ]
     },
     "execution_count": 392,
     "metadata": {},
     "output_type": "execute_result"
    }
   ],
   "source": [
    "# Juntar os df em um único\n",
    "concat = pd.concat([fast_10_1, fast_10_3, fast_10_5, fast_10_10])\n",
    "concat"
   ]
  },
  {
   "cell_type": "code",
   "execution_count": null,
   "id": "6f3e330f",
   "metadata": {},
   "outputs": [],
   "source": [
    "# Comando pra transformar o df final em .csv\n",
    "\n",
    "#nome_do_df.to_csv(r'./df.csv', sep=';', encoding='utf-8', header='true')"
   ]
  }
 ],
 "metadata": {
  "kernelspec": {
   "display_name": "Python 3 (ipykernel)",
   "language": "python",
   "name": "python3"
  },
  "language_info": {
   "codemirror_mode": {
    "name": "ipython",
    "version": 3
   },
   "file_extension": ".py",
   "mimetype": "text/x-python",
   "name": "python",
   "nbconvert_exporter": "python",
   "pygments_lexer": "ipython3",
   "version": "3.8.10"
  }
 },
 "nbformat": 4,
 "nbformat_minor": 5
}
